{
 "cells": [
  {
   "attachments": {},
   "cell_type": "markdown",
   "metadata": {},
   "source": [
    "## Assigment 10"
   ]
  },
  {
   "attachments": {},
   "cell_type": "markdown",
   "metadata": {},
   "source": [
    "### Part 1"
   ]
  },
  {
   "attachments": {},
   "cell_type": "markdown",
   "metadata": {},
   "source": [
    "Urls of website I read and videos I watched:\n",
    "Watched 2 of the videos\n",
    "Downloaded and read Chapter 14\n",
    "\n",
    "Read: \n",
    "https://ipython-books.github.io/71-exploring-a-dataset-with-pandas-and-matplotlib/\n",
    "\n",
    "https://www.kaggle.com/code/kashnitsky/topic-1-exploratory-data-analysis-with-pandas/notebook"
   ]
  },
  {
   "attachments": {},
   "cell_type": "markdown",
   "metadata": {},
   "source": [
    "### Part 2"
   ]
  },
  {
   "attachments": {},
   "cell_type": "markdown",
   "metadata": {},
   "source": [
    "#### Import all library neccessary"
   ]
  },
  {
   "cell_type": "code",
   "execution_count": 1,
   "metadata": {},
   "outputs": [],
   "source": [
    "import numpy as np\n",
    "import pandas as pd\n",
    "import matplotlib.pyplot as plt\n",
    "%matplotlib inline\n"
   ]
  },
  {
   "attachments": {},
   "cell_type": "markdown",
   "metadata": {},
   "source": [
    "#### Download the Transit Pass-Up database"
   ]
  },
  {
   "cell_type": "code",
   "execution_count": 2,
   "metadata": {},
   "outputs": [
    {
     "data": {
      "text/plain": [
       "('transitpassup.csv', <http.client.HTTPMessage at 0x26fc01302e0>)"
      ]
     },
     "execution_count": 2,
     "metadata": {},
     "output_type": "execute_result"
    }
   ],
   "source": [
    "url = \"https://data.winnipeg.ca/api/views/mer2-irmb/rows.csv?accessType=DOWNLOAD\"\n",
    "from urllib.request import urlretrieve\n",
    "urlretrieve(url,\"transitpassup.csv\")"
   ]
  },
  {
   "attachments": {},
   "cell_type": "markdown",
   "metadata": {},
   "source": [
    "#### Get the first five item from data"
   ]
  },
  {
   "cell_type": "code",
   "execution_count": 3,
   "metadata": {},
   "outputs": [
    {
     "data": {
      "text/html": [
       "<div>\n",
       "<style scoped>\n",
       "    .dataframe tbody tr th:only-of-type {\n",
       "        vertical-align: middle;\n",
       "    }\n",
       "\n",
       "    .dataframe tbody tr th {\n",
       "        vertical-align: top;\n",
       "    }\n",
       "\n",
       "    .dataframe thead th {\n",
       "        text-align: right;\n",
       "    }\n",
       "</style>\n",
       "<table border=\"1\" class=\"dataframe\">\n",
       "  <thead>\n",
       "    <tr style=\"text-align: right;\">\n",
       "      <th></th>\n",
       "      <th>Pass-Up ID</th>\n",
       "      <th>Pass-Up Type</th>\n",
       "      <th>Time</th>\n",
       "      <th>Route Number</th>\n",
       "      <th>Route Name</th>\n",
       "      <th>Route Destination</th>\n",
       "      <th>Location</th>\n",
       "    </tr>\n",
       "  </thead>\n",
       "  <tbody>\n",
       "    <tr>\n",
       "      <th>0</th>\n",
       "      <td>3054784</td>\n",
       "      <td>Full Bus Pass-Up</td>\n",
       "      <td>11/23/2019 07:30:06 PM</td>\n",
       "      <td>11</td>\n",
       "      <td>Portage-Kildonan</td>\n",
       "      <td>Via Glenway</td>\n",
       "      <td>POINT (-97.188800279492 49.88243163641)</td>\n",
       "    </tr>\n",
       "    <tr>\n",
       "      <th>1</th>\n",
       "      <td>3054854</td>\n",
       "      <td>Full Bus Pass-Up</td>\n",
       "      <td>11/24/2019 09:49:15 AM</td>\n",
       "      <td>170</td>\n",
       "      <td>Fort Richmond - St. Norbert</td>\n",
       "      <td>To Downtown</td>\n",
       "      <td>POINT (-97.151684893085 49.81759394067)</td>\n",
       "    </tr>\n",
       "    <tr>\n",
       "      <th>2</th>\n",
       "      <td>3055024</td>\n",
       "      <td>Full Bus Pass-Up</td>\n",
       "      <td>11/24/2019 04:02:09 PM</td>\n",
       "      <td>11</td>\n",
       "      <td>Portage-Kildonan</td>\n",
       "      <td>To Polo Park</td>\n",
       "      <td>POINT (-97.150726428724 49.89119427188)</td>\n",
       "    </tr>\n",
       "    <tr>\n",
       "      <th>3</th>\n",
       "      <td>3055083</td>\n",
       "      <td>Full Bus Pass-Up</td>\n",
       "      <td>11/24/2019 06:35:54 PM</td>\n",
       "      <td>11</td>\n",
       "      <td>Portage-Kildonan</td>\n",
       "      <td>Via Donwood</td>\n",
       "      <td>POINT (-97.196676428673 49.881016294322)</td>\n",
       "    </tr>\n",
       "    <tr>\n",
       "      <th>4</th>\n",
       "      <td>3054785</td>\n",
       "      <td>Full Bus Pass-Up</td>\n",
       "      <td>11/23/2019 07:30:14 PM</td>\n",
       "      <td>11</td>\n",
       "      <td>Portage-Kildonan</td>\n",
       "      <td>Via Glenway</td>\n",
       "      <td>POINT (-97.188800279492 49.88243163641)</td>\n",
       "    </tr>\n",
       "  </tbody>\n",
       "</table>\n",
       "</div>"
      ],
      "text/plain": [
       "   Pass-Up ID      Pass-Up Type                    Time Route Number  \\\n",
       "0     3054784  Full Bus Pass-Up  11/23/2019 07:30:06 PM           11   \n",
       "1     3054854  Full Bus Pass-Up  11/24/2019 09:49:15 AM          170   \n",
       "2     3055024  Full Bus Pass-Up  11/24/2019 04:02:09 PM           11   \n",
       "3     3055083  Full Bus Pass-Up  11/24/2019 06:35:54 PM           11   \n",
       "4     3054785  Full Bus Pass-Up  11/23/2019 07:30:14 PM           11   \n",
       "\n",
       "                    Route Name Route Destination  \\\n",
       "0             Portage-Kildonan       Via Glenway   \n",
       "1  Fort Richmond - St. Norbert       To Downtown   \n",
       "2             Portage-Kildonan      To Polo Park   \n",
       "3             Portage-Kildonan       Via Donwood   \n",
       "4             Portage-Kildonan       Via Glenway   \n",
       "\n",
       "                                   Location  \n",
       "0   POINT (-97.188800279492 49.88243163641)  \n",
       "1   POINT (-97.151684893085 49.81759394067)  \n",
       "2   POINT (-97.150726428724 49.89119427188)  \n",
       "3  POINT (-97.196676428673 49.881016294322)  \n",
       "4   POINT (-97.188800279492 49.88243163641)  "
      ]
     },
     "execution_count": 3,
     "metadata": {},
     "output_type": "execute_result"
    }
   ],
   "source": [
    "data = pd.read_csv(\"transitpassup.csv\")\n",
    "data.head()"
   ]
  },
  {
   "attachments": {},
   "cell_type": "markdown",
   "metadata": {},
   "source": [
    "#### Get the graph for the data we got"
   ]
  },
  {
   "cell_type": "code",
   "execution_count": 4,
   "metadata": {},
   "outputs": [
    {
     "data": {
      "text/plain": [
       "<Axes: >"
      ]
     },
     "execution_count": 4,
     "metadata": {},
     "output_type": "execute_result"
    },
    {
     "data": {
      "image/png": "[encoded data removed]",
      "text/plain": [
       "<Figure size 640x480 with 1 Axes>"
      ]
     },
     "metadata": {},
     "output_type": "display_data"
    }
   ],
   "source": [
    "data.plot()"
   ]
  },
  {
   "attachments": {},
   "cell_type": "markdown",
   "metadata": {},
   "source": [
    "I am not able to get anything useful out of this graph"
   ]
  },
  {
   "attachments": {},
   "cell_type": "markdown",
   "metadata": {},
   "source": [
    "#### Get the data shape"
   ]
  },
  {
   "cell_type": "code",
   "execution_count": 5,
   "metadata": {},
   "outputs": [
    {
     "name": "stdout",
     "output_type": "stream",
     "text": [
      "(151228, 7)\n"
     ]
    }
   ],
   "source": [
    "print(data.shape)\n"
   ]
  },
  {
   "attachments": {},
   "cell_type": "markdown",
   "metadata": {},
   "source": [
    "#### Get all the column of data"
   ]
  },
  {
   "cell_type": "code",
   "execution_count": 6,
   "metadata": {},
   "outputs": [
    {
     "name": "stdout",
     "output_type": "stream",
     "text": [
      "Index(['Pass-Up ID', 'Pass-Up Type', 'Time', 'Route Number', 'Route Name',\n",
      "       'Route Destination', 'Location'],\n",
      "      dtype='object')\n"
     ]
    }
   ],
   "source": [
    "print(data.columns)"
   ]
  },
  {
   "attachments": {},
   "cell_type": "markdown",
   "metadata": {},
   "source": [
    "#### Get the description of data "
   ]
  },
  {
   "cell_type": "code",
   "execution_count": 7,
   "metadata": {},
   "outputs": [
    {
     "data": {
      "text/html": [
       "<div>\n",
       "<style scoped>\n",
       "    .dataframe tbody tr th:only-of-type {\n",
       "        vertical-align: middle;\n",
       "    }\n",
       "\n",
       "    .dataframe tbody tr th {\n",
       "        vertical-align: top;\n",
       "    }\n",
       "\n",
       "    .dataframe thead th {\n",
       "        text-align: right;\n",
       "    }\n",
       "</style>\n",
       "<table border=\"1\" class=\"dataframe\">\n",
       "  <thead>\n",
       "    <tr style=\"text-align: right;\">\n",
       "      <th></th>\n",
       "      <th>Pass-Up ID</th>\n",
       "    </tr>\n",
       "  </thead>\n",
       "  <tbody>\n",
       "    <tr>\n",
       "      <th>count</th>\n",
       "      <td>1.512280e+05</td>\n",
       "    </tr>\n",
       "    <tr>\n",
       "      <th>mean</th>\n",
       "      <td>1.935745e+06</td>\n",
       "    </tr>\n",
       "    <tr>\n",
       "      <th>std</th>\n",
       "      <td>9.206017e+05</td>\n",
       "    </tr>\n",
       "    <tr>\n",
       "      <th>min</th>\n",
       "      <td>1.046950e+05</td>\n",
       "    </tr>\n",
       "    <tr>\n",
       "      <th>25%</th>\n",
       "      <td>1.237492e+06</td>\n",
       "    </tr>\n",
       "    <tr>\n",
       "      <th>50%</th>\n",
       "      <td>1.983402e+06</td>\n",
       "    </tr>\n",
       "    <tr>\n",
       "      <th>75%</th>\n",
       "      <td>2.747604e+06</td>\n",
       "    </tr>\n",
       "    <tr>\n",
       "      <th>max</th>\n",
       "      <td>3.598121e+06</td>\n",
       "    </tr>\n",
       "  </tbody>\n",
       "</table>\n",
       "</div>"
      ],
      "text/plain": [
       "         Pass-Up ID\n",
       "count  1.512280e+05\n",
       "mean   1.935745e+06\n",
       "std    9.206017e+05\n",
       "min    1.046950e+05\n",
       "25%    1.237492e+06\n",
       "50%    1.983402e+06\n",
       "75%    2.747604e+06\n",
       "max    3.598121e+06"
      ]
     },
     "execution_count": 7,
     "metadata": {},
     "output_type": "execute_result"
    }
   ],
   "source": [
    "data.describe()"
   ]
  },
  {
   "attachments": {},
   "cell_type": "markdown",
   "metadata": {},
   "source": [
    "I can't find something useful here"
   ]
  },
  {
   "attachments": {},
   "cell_type": "markdown",
   "metadata": {},
   "source": [
    "#### Create a dataframe of Pass-Up Type and its count"
   ]
  },
  {
   "cell_type": "code",
   "execution_count": 8,
   "metadata": {},
   "outputs": [
    {
     "name": "stdout",
     "output_type": "stream",
     "text": [
      "              Pass-Up Type   Count\n",
      "0         Full Bus Pass-Up  142702\n",
      "1  Wheelchair User Pass-Up    8526\n"
     ]
    }
   ],
   "source": [
    "passup_counts = data['Pass-Up Type'].value_counts()\n",
    "passup_duplicates = pd.DataFrame({'Pass-Up Type': passup_counts.index, 'Count': passup_counts.values})\n",
    "\n",
    "print(passup_duplicates)"
   ]
  },
  {
   "attachments": {},
   "cell_type": "markdown",
   "metadata": {},
   "source": [
    "#### Create a dataframe of Route Name and its count"
   ]
  },
  {
   "cell_type": "code",
   "execution_count": 9,
   "metadata": {},
   "outputs": [
    {
     "name": "stdout",
     "output_type": "stream",
     "text": [
      "                           Route Name  Count\n",
      "0                    Portage-Kildonan  13259\n",
      "1                      Crosstown East  10827\n",
      "2    Ft. Richmond-St. Norbert Express   9399\n",
      "3                  North Main-Corydon   7492\n",
      "4             Marion-Logan-Notre Dame   7019\n",
      "..                                ...    ...\n",
      "118              St. James Collegiate      1\n",
      "119                               rrx      1\n",
      "120             St.John's High School      1\n",
      "121                wb portage burnell      1\n",
      "122                        On-Request      1\n",
      "\n",
      "[123 rows x 2 columns]\n"
     ]
    }
   ],
   "source": [
    "route_counts = data['Route Name'].value_counts()\n",
    "route_duplicates = pd.DataFrame({'Route Name': route_counts.index, 'Count': route_counts.values})\n",
    "\n",
    "print(route_duplicates)"
   ]
  },
  {
   "attachments": {},
   "cell_type": "markdown",
   "metadata": {},
   "source": [
    "#### draw a bar chart of the highest 20 Route Name and its count"
   ]
  },
  {
   "cell_type": "code",
   "execution_count": 10,
   "metadata": {},
   "outputs": [
    {
     "data": {
      "text/plain": [
       "<Axes: xlabel='Route Name'>"
      ]
     },
     "execution_count": 10,
     "metadata": {},
     "output_type": "execute_result"
    },
    {
     "data": {
      "image/png": "[encoded data removed]",
      "text/plain": [
       "<Figure size 640x480 with 1 Axes>"
      ]
     },
     "metadata": {},
     "output_type": "display_data"
    }
   ],
   "source": [
    "route_duplicates.head(20).plot.bar(x = 'Route Name', y = 'Count')"
   ]
  },
  {
   "attachments": {},
   "cell_type": "markdown",
   "metadata": {},
   "source": [
    "Portage-Kildonan is the route with the highest count of pass-up with more than 13000 pass-ups since the creation of the database"
   ]
  },
  {
   "attachments": {},
   "cell_type": "markdown",
   "metadata": {},
   "source": [
    "#### draw a bar chart of the lowest 20 Route Name and its count"
   ]
  },
  {
   "cell_type": "code",
   "execution_count": 11,
   "metadata": {},
   "outputs": [
    {
     "data": {
      "text/plain": [
       "<Axes: xlabel='Route Name'>"
      ]
     },
     "execution_count": 11,
     "metadata": {},
     "output_type": "execute_result"
    },
    {
     "data": {
      "image/png": "[encoded data removed]",
      "text/plain": [
       "<Figure size 640x480 with 1 Axes>"
      ]
     },
     "metadata": {},
     "output_type": "display_data"
    }
   ],
   "source": [
    "route_duplicates.tail(20).plot.bar(x = 'Route Name', y = 'Count')"
   ]
  },
  {
   "attachments": {},
   "cell_type": "markdown",
   "metadata": {},
   "source": [
    "#### Get the description of count"
   ]
  },
  {
   "cell_type": "code",
   "execution_count": 12,
   "metadata": {},
   "outputs": [
    {
     "data": {
      "text/html": [
       "<div>\n",
       "<style scoped>\n",
       "    .dataframe tbody tr th:only-of-type {\n",
       "        vertical-align: middle;\n",
       "    }\n",
       "\n",
       "    .dataframe tbody tr th {\n",
       "        vertical-align: top;\n",
       "    }\n",
       "\n",
       "    .dataframe thead th {\n",
       "        text-align: right;\n",
       "    }\n",
       "</style>\n",
       "<table border=\"1\" class=\"dataframe\">\n",
       "  <thead>\n",
       "    <tr style=\"text-align: right;\">\n",
       "      <th></th>\n",
       "      <th>Count</th>\n",
       "    </tr>\n",
       "  </thead>\n",
       "  <tbody>\n",
       "    <tr>\n",
       "      <th>count</th>\n",
       "      <td>123.000000</td>\n",
       "    </tr>\n",
       "    <tr>\n",
       "      <th>mean</th>\n",
       "      <td>1131.617886</td>\n",
       "    </tr>\n",
       "    <tr>\n",
       "      <th>std</th>\n",
       "      <td>2266.625836</td>\n",
       "    </tr>\n",
       "    <tr>\n",
       "      <th>min</th>\n",
       "      <td>1.000000</td>\n",
       "    </tr>\n",
       "    <tr>\n",
       "      <th>25%</th>\n",
       "      <td>12.500000</td>\n",
       "    </tr>\n",
       "    <tr>\n",
       "      <th>50%</th>\n",
       "      <td>161.000000</td>\n",
       "    </tr>\n",
       "    <tr>\n",
       "      <th>75%</th>\n",
       "      <td>1002.000000</td>\n",
       "    </tr>\n",
       "    <tr>\n",
       "      <th>max</th>\n",
       "      <td>13259.000000</td>\n",
       "    </tr>\n",
       "  </tbody>\n",
       "</table>\n",
       "</div>"
      ],
      "text/plain": [
       "              Count\n",
       "count    123.000000\n",
       "mean    1131.617886\n",
       "std     2266.625836\n",
       "min        1.000000\n",
       "25%       12.500000\n",
       "50%      161.000000\n",
       "75%     1002.000000\n",
       "max    13259.000000"
      ]
     },
     "execution_count": 12,
     "metadata": {},
     "output_type": "execute_result"
    }
   ],
   "source": [
    "route_duplicates.describe()"
   ]
  },
  {
   "attachments": {},
   "cell_type": "markdown",
   "metadata": {},
   "source": [
    "There are some useful information here. We can see that there is no route that has zero pass up on the chart, which suggest that there is no route that doesn't have at least on pass up since when the data base created, or it just simply wasn't registered to the system if there is zero."
   ]
  },
  {
   "attachments": {},
   "cell_type": "markdown",
   "metadata": {},
   "source": [
    "#### Create a dataframe of Hour and the amount of Pass-Up within that hour"
   ]
  },
  {
   "cell_type": "code",
   "execution_count": 13,
   "metadata": {},
   "outputs": [
    {
     "name": "stdout",
     "output_type": "stream",
     "text": [
      "    Hour  Pass-Up Count\n",
      "0      0            227\n",
      "1      1             19\n",
      "2      2              4\n",
      "3      4              2\n",
      "4      5             13\n",
      "5      6            250\n",
      "6      7           9670\n",
      "7      8          13142\n",
      "8      9          11961\n",
      "9     10           4631\n",
      "10    11           3826\n",
      "11    12           6610\n",
      "12    13           6287\n",
      "13    14          13437\n",
      "14    15          21580\n",
      "15    16          35404\n",
      "16    17          12565\n",
      "17    18           3065\n",
      "18    19           3193\n",
      "19    20           1561\n",
      "20    21           2187\n",
      "21    22           1155\n",
      "22    23            439\n"
     ]
    }
   ],
   "source": [
    "data['Time'] = pd.to_datetime(data['Time'])  # convert the 'Time' column to a datetime data type\n",
    "data['Hour'] = data['Time'].dt.hour  # create a new 'Hour' column with the hour of the day\n",
    "hour_counts = data['Hour'].value_counts().sort_index()\n",
    "hour_passups = pd.DataFrame({'Hour': hour_counts.index, 'Pass-Up Count': hour_counts.values})\n",
    "\n",
    "print(hour_passups)"
   ]
  },
  {
   "attachments": {},
   "cell_type": "markdown",
   "metadata": {},
   "source": [
    "I did not expect that there is no passup on 3am, that's why I did not check and add 3 am to the dataframe"
   ]
  },
  {
   "attachments": {},
   "cell_type": "markdown",
   "metadata": {},
   "source": [
    "#### Reindex hour_counts with value from 0 to 23 to make sure that 3 am is included and set the pass up count to zero"
   ]
  },
  {
   "cell_type": "code",
   "execution_count": 14,
   "metadata": {},
   "outputs": [
    {
     "name": "stdout",
     "output_type": "stream",
     "text": [
      "    Hour  Pass-Up Count\n",
      "0      0            227\n",
      "1      1             19\n",
      "2      2              4\n",
      "3      3              0\n",
      "4      4              2\n",
      "5      5             13\n",
      "6      6            250\n",
      "7      7           9670\n",
      "8      8          13142\n",
      "9      9          11961\n",
      "10    10           4631\n",
      "11    11           3826\n",
      "12    12           6610\n",
      "13    13           6287\n",
      "14    14          13437\n",
      "15    15          21580\n",
      "16    16          35404\n",
      "17    17          12565\n",
      "18    18           3065\n",
      "19    19           3193\n",
      "20    20           1561\n",
      "21    21           2187\n",
      "22    22           1155\n",
      "23    23            439\n"
     ]
    }
   ],
   "source": [
    "all_hours = pd.Series(range(24))\n",
    "hour_counts = hour_counts.reindex(all_hours, fill_value=0) #Fill missing value with 0\n",
    "\n",
    "hour_passups = pd.DataFrame({'Hour': hour_counts.index, 'Pass-Up Count': hour_counts.values})\n",
    "print(hour_passups)"
   ]
  },
  {
   "attachments": {},
   "cell_type": "markdown",
   "metadata": {},
   "source": [
    "#### Describe the Hour"
   ]
  },
  {
   "cell_type": "code",
   "execution_count": 15,
   "metadata": {},
   "outputs": [
    {
     "data": {
      "text/html": [
       "<div>\n",
       "<style scoped>\n",
       "    .dataframe tbody tr th:only-of-type {\n",
       "        vertical-align: middle;\n",
       "    }\n",
       "\n",
       "    .dataframe tbody tr th {\n",
       "        vertical-align: top;\n",
       "    }\n",
       "\n",
       "    .dataframe thead th {\n",
       "        text-align: right;\n",
       "    }\n",
       "</style>\n",
       "<table border=\"1\" class=\"dataframe\">\n",
       "  <thead>\n",
       "    <tr style=\"text-align: right;\">\n",
       "      <th></th>\n",
       "      <th>Hour</th>\n",
       "      <th>Pass-Up Count</th>\n",
       "    </tr>\n",
       "  </thead>\n",
       "  <tbody>\n",
       "    <tr>\n",
       "      <th>count</th>\n",
       "      <td>24.000000</td>\n",
       "      <td>24.000000</td>\n",
       "    </tr>\n",
       "    <tr>\n",
       "      <th>mean</th>\n",
       "      <td>11.500000</td>\n",
       "      <td>6301.166667</td>\n",
       "    </tr>\n",
       "    <tr>\n",
       "      <th>std</th>\n",
       "      <td>7.071068</td>\n",
       "      <td>8499.869455</td>\n",
       "    </tr>\n",
       "    <tr>\n",
       "      <th>min</th>\n",
       "      <td>0.000000</td>\n",
       "      <td>0.000000</td>\n",
       "    </tr>\n",
       "    <tr>\n",
       "      <th>25%</th>\n",
       "      <td>5.750000</td>\n",
       "      <td>244.250000</td>\n",
       "    </tr>\n",
       "    <tr>\n",
       "      <th>50%</th>\n",
       "      <td>11.500000</td>\n",
       "      <td>3129.000000</td>\n",
       "    </tr>\n",
       "    <tr>\n",
       "      <th>75%</th>\n",
       "      <td>17.250000</td>\n",
       "      <td>10242.750000</td>\n",
       "    </tr>\n",
       "    <tr>\n",
       "      <th>max</th>\n",
       "      <td>23.000000</td>\n",
       "      <td>35404.000000</td>\n",
       "    </tr>\n",
       "  </tbody>\n",
       "</table>\n",
       "</div>"
      ],
      "text/plain": [
       "            Hour  Pass-Up Count\n",
       "count  24.000000      24.000000\n",
       "mean   11.500000    6301.166667\n",
       "std     7.071068    8499.869455\n",
       "min     0.000000       0.000000\n",
       "25%     5.750000     244.250000\n",
       "50%    11.500000    3129.000000\n",
       "75%    17.250000   10242.750000\n",
       "max    23.000000   35404.000000"
      ]
     },
     "execution_count": 15,
     "metadata": {},
     "output_type": "execute_result"
    }
   ],
   "source": [
    "hour_passups.describe()"
   ]
  },
  {
   "attachments": {},
   "cell_type": "markdown",
   "metadata": {},
   "source": [
    "#### Draw a graph of the hour and the amount of pass up within that hour"
   ]
  },
  {
   "cell_type": "code",
   "execution_count": 16,
   "metadata": {},
   "outputs": [
    {
     "data": {
      "text/plain": [
       "<Axes: >"
      ]
     },
     "execution_count": 16,
     "metadata": {},
     "output_type": "execute_result"
    },
    {
     "data": {
      "image/png": "[encoded data removed]",
      "text/plain": [
       "<Figure size 640x480 with 1 Axes>"
      ]
     },
     "metadata": {},
     "output_type": "display_data"
    }
   ],
   "source": [
    "hour_passups.plot()"
   ]
  },
  {
   "attachments": {},
   "cell_type": "markdown",
   "metadata": {},
   "source": [
    "I saw an interesting fact that most of the pass-ups are at around 3:30 pm and 7 am. This can be explained since those are the times that children go to school and leave school to go home. Most of the adults have car so they don't take bus, and this graph prove that the poor bus service on those hoursw are due to the high usage from student."
   ]
  },
  {
   "attachments": {},
   "cell_type": "markdown",
   "metadata": {},
   "source": [
    "#### Download the Province of Manitoba - Potential COVID-19 Exposures database"
   ]
  },
  {
   "cell_type": "code",
   "execution_count": 17,
   "metadata": {},
   "outputs": [
    {
     "data": {
      "text/plain": [
       "('PotentialCOVID19.csv', <http.client.HTTPMessage at 0x26fc8c0aa70>)"
      ]
     },
     "execution_count": 17,
     "metadata": {},
     "output_type": "execute_result"
    }
   ],
   "source": [
    "url = \"https://data.winnipeg.ca/api/views/r4hg-nw9q/rows.csv?accessType=DOWNLOAD\"\n",
    "from urllib.request import urlretrieve\n",
    "urlretrieve(url,\"PotentialCOVID19.csv\")"
   ]
  },
  {
   "attachments": {},
   "cell_type": "markdown",
   "metadata": {},
   "source": [
    "#### Get the first five item from the database"
   ]
  },
  {
   "cell_type": "code",
   "execution_count": 18,
   "metadata": {},
   "outputs": [
    {
     "data": {
      "text/html": [
       "<div>\n",
       "<style scoped>\n",
       "    .dataframe tbody tr th:only-of-type {\n",
       "        vertical-align: middle;\n",
       "    }\n",
       "\n",
       "    .dataframe tbody tr th {\n",
       "        vertical-align: top;\n",
       "    }\n",
       "\n",
       "    .dataframe thead th {\n",
       "        text-align: right;\n",
       "    }\n",
       "</style>\n",
       "<table border=\"1\" class=\"dataframe\">\n",
       "  <thead>\n",
       "    <tr style=\"text-align: right;\">\n",
       "      <th></th>\n",
       "      <th>Date</th>\n",
       "      <th>Date Added</th>\n",
       "      <th>Location</th>\n",
       "      <th>Endroit</th>\n",
       "      <th>Address</th>\n",
       "      <th>Address-fr</th>\n",
       "      <th>Transit Route</th>\n",
       "      <th>Details</th>\n",
       "      <th>Précisions</th>\n",
       "      <th>Variant of Concern</th>\n",
       "      <th>Variant Préoccupant</th>\n",
       "    </tr>\n",
       "  </thead>\n",
       "  <tbody>\n",
       "    <tr>\n",
       "      <th>0</th>\n",
       "      <td>10/20/2020 12:00:00 AM</td>\n",
       "      <td>10/27/2020 12:00:00 AM</td>\n",
       "      <td>Winnipeg Police Service Central Division, Head...</td>\n",
       "      <td>Division centrale du Service de police de Winn...</td>\n",
       "      <td>245 Smith St.</td>\n",
       "      <td>245, rue Smith</td>\n",
       "      <td>NaN</td>\n",
       "      <td>The two affected Winnipeg Police Service membe...</td>\n",
       "      <td>Les deux membres du personnel du Service de po...</td>\n",
       "      <td>NaN</td>\n",
       "      <td>NaN</td>\n",
       "    </tr>\n",
       "    <tr>\n",
       "      <th>1</th>\n",
       "      <td>04/27/2021 12:00:00 AM</td>\n",
       "      <td>05/03/2021 12:00:00 AM</td>\n",
       "      <td>Winnipeg Transit Routes</td>\n",
       "      <td>Régie des transports de Winnipeg, lignes</td>\n",
       "      <td>Régie des transports de Winnipeg, lignes</td>\n",
       "      <td>Régie des transports de Winnipeg, lignes</td>\n",
       "      <td>BLUE</td>\n",
       "      <td>BLUE from Chancellor Station at approximately ...</td>\n",
       "      <td>Ligne BLEUE, depuis la station Chancellor, à e...</td>\n",
       "      <td>NaN</td>\n",
       "      <td>NaN</td>\n",
       "    </tr>\n",
       "    <tr>\n",
       "      <th>2</th>\n",
       "      <td>06/12/2021 12:00:00 AM</td>\n",
       "      <td>06/21/2021 12:00:00 AM</td>\n",
       "      <td>Winnipeg Transit Route</td>\n",
       "      <td>Régie des transports de Winnipeg, ligne</td>\n",
       "      <td>Régie des transports de Winnipeg, ligne</td>\n",
       "      <td>Régie des transports de Winnipeg, ligne</td>\n",
       "      <td>14</td>\n",
       "      <td>Route 14 from Arlington St. and Ellice Ave. at...</td>\n",
       "      <td>Ligne 14, depuis le coin de la rue Arlington e...</td>\n",
       "      <td>NaN</td>\n",
       "      <td>NaN</td>\n",
       "    </tr>\n",
       "    <tr>\n",
       "      <th>3</th>\n",
       "      <td>06/07/2021 12:00:00 AM</td>\n",
       "      <td>06/14/2021 12:00:00 AM</td>\n",
       "      <td>Winnipeg Transit Routes</td>\n",
       "      <td>Régie des transports de Winnipeg, lignes</td>\n",
       "      <td>Régie des transports de Winnipeg, lignes</td>\n",
       "      <td>Régie des transports de Winnipeg, lignes</td>\n",
       "      <td>11</td>\n",
       "      <td>Route 21 from Portage Ave. and Donald St. at a...</td>\n",
       "      <td>Ligne 21, depuis le coin de l’avenue Portage e...</td>\n",
       "      <td>NaN</td>\n",
       "      <td>NaN</td>\n",
       "    </tr>\n",
       "    <tr>\n",
       "      <th>4</th>\n",
       "      <td>06/15/2021 12:00:00 AM</td>\n",
       "      <td>NaN</td>\n",
       "      <td>Winnipeg Transit Routes</td>\n",
       "      <td>Régie des transports de Winnipeg, lignes</td>\n",
       "      <td>Régie des transports de Winnipeg, lignes</td>\n",
       "      <td>Régie des transports de Winnipeg, lignes</td>\n",
       "      <td>676</td>\n",
       "      <td>Route 676 from Chancellor Dr. and Gaylene Pl. ...</td>\n",
       "      <td>Ligne 676, depuis le coin de la promenade Chan...</td>\n",
       "      <td>NaN</td>\n",
       "      <td>NaN</td>\n",
       "    </tr>\n",
       "  </tbody>\n",
       "</table>\n",
       "</div>"
      ],
      "text/plain": [
       "                     Date              Date Added  \\\n",
       "0  10/20/2020 12:00:00 AM  10/27/2020 12:00:00 AM   \n",
       "1  04/27/2021 12:00:00 AM  05/03/2021 12:00:00 AM   \n",
       "2  06/12/2021 12:00:00 AM  06/21/2021 12:00:00 AM   \n",
       "3  06/07/2021 12:00:00 AM  06/14/2021 12:00:00 AM   \n",
       "4  06/15/2021 12:00:00 AM                     NaN   \n",
       "\n",
       "                                            Location  \\\n",
       "0  Winnipeg Police Service Central Division, Head...   \n",
       "1                            Winnipeg Transit Routes   \n",
       "2                             Winnipeg Transit Route   \n",
       "3                            Winnipeg Transit Routes   \n",
       "4                            Winnipeg Transit Routes   \n",
       "\n",
       "                                             Endroit  \\\n",
       "0  Division centrale du Service de police de Winn...   \n",
       "1           Régie des transports de Winnipeg, lignes   \n",
       "2            Régie des transports de Winnipeg, ligne   \n",
       "3           Régie des transports de Winnipeg, lignes   \n",
       "4           Régie des transports de Winnipeg, lignes   \n",
       "\n",
       "                                    Address  \\\n",
       "0                             245 Smith St.   \n",
       "1  Régie des transports de Winnipeg, lignes   \n",
       "2   Régie des transports de Winnipeg, ligne   \n",
       "3  Régie des transports de Winnipeg, lignes   \n",
       "4  Régie des transports de Winnipeg, lignes   \n",
       "\n",
       "                                 Address-fr Transit Route  \\\n",
       "0                            245, rue Smith           NaN   \n",
       "1  Régie des transports de Winnipeg, lignes          BLUE   \n",
       "2   Régie des transports de Winnipeg, ligne            14   \n",
       "3  Régie des transports de Winnipeg, lignes            11   \n",
       "4  Régie des transports de Winnipeg, lignes           676   \n",
       "\n",
       "                                             Details  \\\n",
       "0  The two affected Winnipeg Police Service membe...   \n",
       "1  BLUE from Chancellor Station at approximately ...   \n",
       "2  Route 14 from Arlington St. and Ellice Ave. at...   \n",
       "3  Route 21 from Portage Ave. and Donald St. at a...   \n",
       "4  Route 676 from Chancellor Dr. and Gaylene Pl. ...   \n",
       "\n",
       "                                          Précisions Variant of Concern  \\\n",
       "0  Les deux membres du personnel du Service de po...                NaN   \n",
       "1  Ligne BLEUE, depuis la station Chancellor, à e...                NaN   \n",
       "2  Ligne 14, depuis le coin de la rue Arlington e...                NaN   \n",
       "3  Ligne 21, depuis le coin de l’avenue Portage e...                NaN   \n",
       "4  Ligne 676, depuis le coin de la promenade Chan...                NaN   \n",
       "\n",
       "  Variant Préoccupant  \n",
       "0                 NaN  \n",
       "1                 NaN  \n",
       "2                 NaN  \n",
       "3                 NaN  \n",
       "4                 NaN  "
      ]
     },
     "execution_count": 18,
     "metadata": {},
     "output_type": "execute_result"
    }
   ],
   "source": [
    "data2 = pd.read_csv(\"PotentialCOVID19.csv\")\n",
    "data2.head()"
   ]
  },
  {
   "attachments": {},
   "cell_type": "markdown",
   "metadata": {},
   "source": [
    "#### Get the data shape"
   ]
  },
  {
   "cell_type": "code",
   "execution_count": 19,
   "metadata": {},
   "outputs": [
    {
     "name": "stdout",
     "output_type": "stream",
     "text": [
      "(678, 11)\n"
     ]
    }
   ],
   "source": [
    "print(data2.shape)"
   ]
  },
  {
   "attachments": {},
   "cell_type": "markdown",
   "metadata": {},
   "source": [
    "#### Get the data columns"
   ]
  },
  {
   "cell_type": "code",
   "execution_count": 20,
   "metadata": {},
   "outputs": [
    {
     "name": "stdout",
     "output_type": "stream",
     "text": [
      "Index(['Date', 'Date Added', 'Location', 'Endroit', 'Address', 'Address-fr',\n",
      "       'Transit Route', 'Details', 'Précisions', 'Variant of Concern',\n",
      "       'Variant Préoccupant'],\n",
      "      dtype='object')\n"
     ]
    }
   ],
   "source": [
    "print(data2.columns)"
   ]
  },
  {
   "attachments": {},
   "cell_type": "markdown",
   "metadata": {},
   "source": [
    "I see that there are a few columns are in French. I want to eliminate those"
   ]
  },
  {
   "attachments": {},
   "cell_type": "markdown",
   "metadata": {},
   "source": [
    "#### Create a copy of data2 but without Frech column"
   ]
  },
  {
   "cell_type": "code",
   "execution_count": 21,
   "metadata": {},
   "outputs": [],
   "source": [
    "data2_eng = data2[[\"Date\", \"Date Added\", \"Location\", \"Address\", \"Transit Route\", \"Details\", \"Variant of Concern\"]]\n"
   ]
  },
  {
   "attachments": {},
   "cell_type": "markdown",
   "metadata": {},
   "source": [
    "#### Get the first five item from data2_eng"
   ]
  },
  {
   "cell_type": "code",
   "execution_count": 22,
   "metadata": {},
   "outputs": [
    {
     "data": {
      "text/html": [
       "<div>\n",
       "<style scoped>\n",
       "    .dataframe tbody tr th:only-of-type {\n",
       "        vertical-align: middle;\n",
       "    }\n",
       "\n",
       "    .dataframe tbody tr th {\n",
       "        vertical-align: top;\n",
       "    }\n",
       "\n",
       "    .dataframe thead th {\n",
       "        text-align: right;\n",
       "    }\n",
       "</style>\n",
       "<table border=\"1\" class=\"dataframe\">\n",
       "  <thead>\n",
       "    <tr style=\"text-align: right;\">\n",
       "      <th></th>\n",
       "      <th>Date</th>\n",
       "      <th>Date Added</th>\n",
       "      <th>Location</th>\n",
       "      <th>Address</th>\n",
       "      <th>Transit Route</th>\n",
       "      <th>Details</th>\n",
       "      <th>Variant of Concern</th>\n",
       "    </tr>\n",
       "  </thead>\n",
       "  <tbody>\n",
       "    <tr>\n",
       "      <th>0</th>\n",
       "      <td>10/20/2020 12:00:00 AM</td>\n",
       "      <td>10/27/2020 12:00:00 AM</td>\n",
       "      <td>Winnipeg Police Service Central Division, Head...</td>\n",
       "      <td>245 Smith St.</td>\n",
       "      <td>NaN</td>\n",
       "      <td>The two affected Winnipeg Police Service membe...</td>\n",
       "      <td>NaN</td>\n",
       "    </tr>\n",
       "    <tr>\n",
       "      <th>1</th>\n",
       "      <td>04/27/2021 12:00:00 AM</td>\n",
       "      <td>05/03/2021 12:00:00 AM</td>\n",
       "      <td>Winnipeg Transit Routes</td>\n",
       "      <td>Régie des transports de Winnipeg, lignes</td>\n",
       "      <td>BLUE</td>\n",
       "      <td>BLUE from Chancellor Station at approximately ...</td>\n",
       "      <td>NaN</td>\n",
       "    </tr>\n",
       "    <tr>\n",
       "      <th>2</th>\n",
       "      <td>06/12/2021 12:00:00 AM</td>\n",
       "      <td>06/21/2021 12:00:00 AM</td>\n",
       "      <td>Winnipeg Transit Route</td>\n",
       "      <td>Régie des transports de Winnipeg, ligne</td>\n",
       "      <td>14</td>\n",
       "      <td>Route 14 from Arlington St. and Ellice Ave. at...</td>\n",
       "      <td>NaN</td>\n",
       "    </tr>\n",
       "    <tr>\n",
       "      <th>3</th>\n",
       "      <td>06/07/2021 12:00:00 AM</td>\n",
       "      <td>06/14/2021 12:00:00 AM</td>\n",
       "      <td>Winnipeg Transit Routes</td>\n",
       "      <td>Régie des transports de Winnipeg, lignes</td>\n",
       "      <td>11</td>\n",
       "      <td>Route 21 from Portage Ave. and Donald St. at a...</td>\n",
       "      <td>NaN</td>\n",
       "    </tr>\n",
       "    <tr>\n",
       "      <th>4</th>\n",
       "      <td>06/15/2021 12:00:00 AM</td>\n",
       "      <td>NaN</td>\n",
       "      <td>Winnipeg Transit Routes</td>\n",
       "      <td>Régie des transports de Winnipeg, lignes</td>\n",
       "      <td>676</td>\n",
       "      <td>Route 676 from Chancellor Dr. and Gaylene Pl. ...</td>\n",
       "      <td>NaN</td>\n",
       "    </tr>\n",
       "  </tbody>\n",
       "</table>\n",
       "</div>"
      ],
      "text/plain": [
       "                     Date              Date Added  \\\n",
       "0  10/20/2020 12:00:00 AM  10/27/2020 12:00:00 AM   \n",
       "1  04/27/2021 12:00:00 AM  05/03/2021 12:00:00 AM   \n",
       "2  06/12/2021 12:00:00 AM  06/21/2021 12:00:00 AM   \n",
       "3  06/07/2021 12:00:00 AM  06/14/2021 12:00:00 AM   \n",
       "4  06/15/2021 12:00:00 AM                     NaN   \n",
       "\n",
       "                                            Location  \\\n",
       "0  Winnipeg Police Service Central Division, Head...   \n",
       "1                            Winnipeg Transit Routes   \n",
       "2                             Winnipeg Transit Route   \n",
       "3                            Winnipeg Transit Routes   \n",
       "4                            Winnipeg Transit Routes   \n",
       "\n",
       "                                    Address Transit Route  \\\n",
       "0                             245 Smith St.           NaN   \n",
       "1  Régie des transports de Winnipeg, lignes          BLUE   \n",
       "2   Régie des transports de Winnipeg, ligne            14   \n",
       "3  Régie des transports de Winnipeg, lignes            11   \n",
       "4  Régie des transports de Winnipeg, lignes           676   \n",
       "\n",
       "                                             Details Variant of Concern  \n",
       "0  The two affected Winnipeg Police Service membe...                NaN  \n",
       "1  BLUE from Chancellor Station at approximately ...                NaN  \n",
       "2  Route 14 from Arlington St. and Ellice Ave. at...                NaN  \n",
       "3  Route 21 from Portage Ave. and Donald St. at a...                NaN  \n",
       "4  Route 676 from Chancellor Dr. and Gaylene Pl. ...                NaN  "
      ]
     },
     "execution_count": 22,
     "metadata": {},
     "output_type": "execute_result"
    }
   ],
   "source": [
    "data2_eng.head()"
   ]
  },
  {
   "attachments": {},
   "cell_type": "markdown",
   "metadata": {},
   "source": [
    "#### Create a dataframe that includes the transit route and the amount of report it has"
   ]
  },
  {
   "cell_type": "code",
   "execution_count": 23,
   "metadata": {},
   "outputs": [
    {
     "name": "stdout",
     "output_type": "stream",
     "text": [
      "   Transit Route  Count\n",
      "0           BLUE     61\n",
      "1             11     50\n",
      "2             77     44\n",
      "3             47     38\n",
      "4             18     38\n",
      "..           ...    ...\n",
      "59            22      1\n",
      "60           677      1\n",
      "61             2      1\n",
      "62           676      1\n",
      "63            42      1\n",
      "\n",
      "[64 rows x 2 columns]\n"
     ]
    }
   ],
   "source": [
    "route_counts = data2_eng['Transit Route'].value_counts()\n",
    "route_duplicates = pd.DataFrame({'Transit Route': route_counts.index, 'Count': route_counts.values})\n",
    "\n",
    "print(route_duplicates)"
   ]
  },
  {
   "attachments": {},
   "cell_type": "markdown",
   "metadata": {},
   "source": [
    "#### Create a bar chart for the datafram of transit route and its report amount"
   ]
  },
  {
   "cell_type": "code",
   "execution_count": 24,
   "metadata": {},
   "outputs": [
    {
     "data": {
      "text/plain": [
       "<Axes: xlabel='Transit Route'>"
      ]
     },
     "execution_count": 24,
     "metadata": {},
     "output_type": "execute_result"
    },
    {
     "data": {
      "image/png": "[encoded data removed]",
      "text/plain": [
       "<Figure size 640x480 with 1 Axes>"
      ]
     },
     "metadata": {},
     "output_type": "display_data"
    }
   ],
   "source": [
    "route_duplicates.head(20).plot.bar(x = \"Transit Route\", y = \"Count\")"
   ]
  },
  {
   "attachments": {},
   "cell_type": "markdown",
   "metadata": {},
   "source": [
    "The Blue is the bus route with the highest amount of report for COVID 19"
   ]
  },
  {
   "attachments": {},
   "cell_type": "markdown",
   "metadata": {},
   "source": [
    "#### Create a dataframe which contains date and its count"
   ]
  },
  {
   "cell_type": "code",
   "execution_count": 25,
   "metadata": {},
   "outputs": [
    {
     "name": "stderr",
     "output_type": "stream",
     "text": [
      "C:\\Users\\daida\\AppData\\Local\\Temp\\ipykernel_26348\\2188276855.py:1: SettingWithCopyWarning: \n",
      "A value is trying to be set on a copy of a slice from a DataFrame.\n",
      "Try using .loc[row_indexer,col_indexer] = value instead\n",
      "\n",
      "See the caveats in the documentation: https://pandas.pydata.org/pandas-docs/stable/user_guide/indexing.html#returning-a-view-versus-a-copy\n",
      "  data2_eng['Date'] = pd.to_datetime(data2_eng['Date'])  # convert the 'Date' column to a datetime data type\n",
      "C:\\Users\\daida\\AppData\\Local\\Temp\\ipykernel_26348\\2188276855.py:2: SettingWithCopyWarning: \n",
      "A value is trying to be set on a copy of a slice from a DataFrame.\n",
      "Try using .loc[row_indexer,col_indexer] = value instead\n",
      "\n",
      "See the caveats in the documentation: https://pandas.pydata.org/pandas-docs/stable/user_guide/indexing.html#returning-a-view-versus-a-copy\n",
      "  data2_eng['Day'] = data2_eng['Date'].dt.date  # create a new 'Hour' column with the hour of the day\n"
     ]
    }
   ],
   "source": [
    "data2_eng['Date'] = pd.to_datetime(data2_eng['Date'])  # convert the 'Date' column to a datetime data type\n",
    "data2_eng['Day'] = data2_eng['Date'].dt.date  # create a new 'Hour' column with the hour of the day\n",
    "\n",
    "date_counts = data2_eng['Date'].value_counts().sort_index()\n",
    "date_df = pd.DataFrame({'Date': date_counts.index, 'Date Count': date_counts.values})\n",
    "\n"
   ]
  },
  {
   "attachments": {},
   "cell_type": "markdown",
   "metadata": {},
   "source": [
    "#### Create a graph of the density and insensity of the COVID report from 9-2020 to 1-2022"
   ]
  },
  {
   "cell_type": "code",
   "execution_count": 26,
   "metadata": {},
   "outputs": [
    {
     "data": {
      "text/plain": [
       "<Axes: xlabel='Date'>"
      ]
     },
     "execution_count": 26,
     "metadata": {},
     "output_type": "execute_result"
    },
    {
     "data": {
      "image/png": "[encoded data removed]",
      "text/plain": [
       "<Figure size 640x480 with 1 Axes>"
      ]
     },
     "metadata": {},
     "output_type": "display_data"
    }
   ],
   "source": [
    "date_df.plot(x='Date', y='Date Count')"
   ]
  },
  {
   "attachments": {},
   "cell_type": "markdown",
   "metadata": {},
   "source": [
    "I see that there are two spikes of COVID report. One is between October 2020 and January 2021, and one is from March 2021 to June 2021. In those two, the one from March 2021 to June 2021 is the more servere one since there are a lot of COVID report in one day and the density in that period is high."
   ]
  },
  {
   "attachments": {},
   "cell_type": "markdown",
   "metadata": {},
   "source": [
    "#### Download the Speed limits of Winnipeg database"
   ]
  },
  {
   "cell_type": "code",
   "execution_count": 27,
   "metadata": {},
   "outputs": [
    {
     "data": {
      "text/plain": [
       "('speedlimit.csv', <http.client.HTTPMessage at 0x26fc8db3580>)"
      ]
     },
     "execution_count": 27,
     "metadata": {},
     "output_type": "execute_result"
    }
   ],
   "source": [
    "url = \"https://data.winnipeg.ca/api/views/j5wn-5wz7/rows.csv?accessType=DOWNLOAD\"\n",
    "from urllib.request import urlretrieve\n",
    "urlretrieve(url,\"speedlimit.csv\")"
   ]
  },
  {
   "attachments": {},
   "cell_type": "markdown",
   "metadata": {},
   "source": [
    "#### Get the first five item from the database"
   ]
  },
  {
   "cell_type": "code",
   "execution_count": 28,
   "metadata": {},
   "outputs": [
    {
     "data": {
      "text/html": [
       "<div>\n",
       "<style scoped>\n",
       "    .dataframe tbody tr th:only-of-type {\n",
       "        vertical-align: middle;\n",
       "    }\n",
       "\n",
       "    .dataframe tbody tr th {\n",
       "        vertical-align: top;\n",
       "    }\n",
       "\n",
       "    .dataframe thead th {\n",
       "        text-align: right;\n",
       "    }\n",
       "</style>\n",
       "<table border=\"1\" class=\"dataframe\">\n",
       "  <thead>\n",
       "    <tr style=\"text-align: right;\">\n",
       "      <th></th>\n",
       "      <th>ID</th>\n",
       "      <th>Street Name</th>\n",
       "      <th>Street Qualifier</th>\n",
       "      <th>Begin Measure</th>\n",
       "      <th>End Measure</th>\n",
       "      <th>Speed Limit</th>\n",
       "      <th>Speed Limit Description</th>\n",
       "      <th>Speed Limit Jurisdiction</th>\n",
       "      <th>Location</th>\n",
       "    </tr>\n",
       "  </thead>\n",
       "  <tbody>\n",
       "    <tr>\n",
       "      <th>0</th>\n",
       "      <td>2022</td>\n",
       "      <td>Transit 27679</td>\n",
       "      <td>Transit_Walk</td>\n",
       "      <td>0.00000</td>\n",
       "      <td>42.53678</td>\n",
       "      <td>3</td>\n",
       "      <td>Walking Speed</td>\n",
       "      <td>City_Transit</td>\n",
       "      <td>MULTILINESTRING ((-97.078153234058 49.83523439...</td>\n",
       "    </tr>\n",
       "    <tr>\n",
       "      <th>1</th>\n",
       "      <td>4982</td>\n",
       "      <td>North Town Rd</td>\n",
       "      <td>B</td>\n",
       "      <td>859.74723</td>\n",
       "      <td>1245.59130</td>\n",
       "      <td>50</td>\n",
       "      <td>Speed Limits are less than or equal to 50 kph</td>\n",
       "      <td>City Transportation</td>\n",
       "      <td>MULTILINESTRING ((-97.199059801215 49.79872280...</td>\n",
       "    </tr>\n",
       "    <tr>\n",
       "      <th>2</th>\n",
       "      <td>10027</td>\n",
       "      <td>Degrave St</td>\n",
       "      <td>A</td>\n",
       "      <td>0.00000</td>\n",
       "      <td>188.84532</td>\n",
       "      <td>50</td>\n",
       "      <td>Speed Limits are less than or equal to 50 kph</td>\n",
       "      <td>City Transportation</td>\n",
       "      <td>MULTILINESTRING ((-97.151103914582 49.96112887...</td>\n",
       "    </tr>\n",
       "    <tr>\n",
       "      <th>3</th>\n",
       "      <td>10028</td>\n",
       "      <td>Fernbank Ave</td>\n",
       "      <td>B</td>\n",
       "      <td>0.00000</td>\n",
       "      <td>59.25960</td>\n",
       "      <td>50</td>\n",
       "      <td>Speed Limits are less than or equal to 50 kph</td>\n",
       "      <td>City Transportation</td>\n",
       "      <td>MULTILINESTRING ((-97.108880193102 49.96987836...</td>\n",
       "    </tr>\n",
       "    <tr>\n",
       "      <th>4</th>\n",
       "      <td>10029</td>\n",
       "      <td>Fernbank Ave</td>\n",
       "      <td>B</td>\n",
       "      <td>59.25960</td>\n",
       "      <td>88.95489</td>\n",
       "      <td>50</td>\n",
       "      <td>Speed Limits are less than or equal to 50 kph</td>\n",
       "      <td>City Transportation</td>\n",
       "      <td>MULTILINESTRING ((-97.109609087034 49.96966303...</td>\n",
       "    </tr>\n",
       "  </tbody>\n",
       "</table>\n",
       "</div>"
      ],
      "text/plain": [
       "      ID    Street Name Street Qualifier  Begin Measure  End Measure  \\\n",
       "0   2022  Transit 27679     Transit_Walk        0.00000     42.53678   \n",
       "1   4982  North Town Rd                B      859.74723   1245.59130   \n",
       "2  10027     Degrave St                A        0.00000    188.84532   \n",
       "3  10028   Fernbank Ave                B        0.00000     59.25960   \n",
       "4  10029   Fernbank Ave                B       59.25960     88.95489   \n",
       "\n",
       "   Speed Limit                        Speed Limit Description  \\\n",
       "0            3                                  Walking Speed   \n",
       "1           50  Speed Limits are less than or equal to 50 kph   \n",
       "2           50  Speed Limits are less than or equal to 50 kph   \n",
       "3           50  Speed Limits are less than or equal to 50 kph   \n",
       "4           50  Speed Limits are less than or equal to 50 kph   \n",
       "\n",
       "  Speed Limit Jurisdiction                                           Location  \n",
       "0             City_Transit  MULTILINESTRING ((-97.078153234058 49.83523439...  \n",
       "1      City Transportation  MULTILINESTRING ((-97.199059801215 49.79872280...  \n",
       "2      City Transportation  MULTILINESTRING ((-97.151103914582 49.96112887...  \n",
       "3      City Transportation  MULTILINESTRING ((-97.108880193102 49.96987836...  \n",
       "4      City Transportation  MULTILINESTRING ((-97.109609087034 49.96966303...  "
      ]
     },
     "execution_count": 28,
     "metadata": {},
     "output_type": "execute_result"
    }
   ],
   "source": [
    "data3 = pd.read_csv(\"speedlimit.csv\")\n",
    "data3.head()"
   ]
  },
  {
   "attachments": {},
   "cell_type": "markdown",
   "metadata": {},
   "source": [
    "#### Create a dataframe which contains Speed Limit type and its count"
   ]
  },
  {
   "cell_type": "code",
   "execution_count": 29,
   "metadata": {},
   "outputs": [],
   "source": [
    "speedlimit_counts = data3['Speed Limit'].value_counts().sort_index()\n",
    "speedlimit_df = pd.DataFrame({'Speed Limit': speedlimit_counts.index, 'Count': speedlimit_counts.values}, index=speedlimit_counts.index)\n"
   ]
  },
  {
   "attachments": {},
   "cell_type": "markdown",
   "metadata": {},
   "source": [
    "#### Create a pie chart of the proportion between the ammoun of each of the speed limit"
   ]
  },
  {
   "cell_type": "code",
   "execution_count": 30,
   "metadata": {},
   "outputs": [
    {
     "data": {
      "text/plain": [
       "<Axes: ylabel='Count'>"
      ]
     },
     "execution_count": 30,
     "metadata": {},
     "output_type": "execute_result"
    },
    {
     "data": {
      "image/png": "[encoded data removed]",
      "text/plain": [
       "<Figure size 640x480 with 1 Axes>"
      ]
     },
     "metadata": {},
     "output_type": "display_data"
    }
   ],
   "source": [
    "speedlimit_df.plot.pie(y='Count')"
   ]
  },
  {
   "attachments": {},
   "cell_type": "markdown",
   "metadata": {},
   "source": [
    "The graph above show that the proportion of 50 km/h speed limit is very high compare to others. The amount of speed limit of 3 km/h is also high but not comparable to 50 km/h one. This fact show that in the city of Winnipeg, the amount of residential area route is more than the amount of walking zone route"
   ]
  }
 ],
 "metadata": {
  "kernelspec": {
   "display_name": "Python 3",
   "language": "python",
   "name": "python3"
  },
  "language_info": {
   "codemirror_mode": {
    "name": "ipython",
    "version": 3
   },
   "file_extension": ".py",
   "mimetype": "text/x-python",
   "name": "python",
   "nbconvert_exporter": "python",
   "pygments_lexer": "ipython3",
   "version": "3.10.10"
  },
  "orig_nbformat": 4
 },
 "nbformat": 4,
 "nbformat_minor": 2
}
